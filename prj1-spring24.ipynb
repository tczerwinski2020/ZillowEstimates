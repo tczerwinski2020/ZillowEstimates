{
 "cells": [
  {
   "attachments": {},
   "cell_type": "markdown",
   "metadata": {
    "id": "jRbuIIjtMMFj"
   },
   "source": [
    "# COSC 4610/5610 Project 1 (Spring 2024)\n",
    "\n",
    "**Team members**: Taylor Czerwinski, taylor.czerwinski@marquette.edu\n",
    "\n",
    "**Submission.** Please insert your names and emails above, save your code in this notebook, and explain what you are doing along with your findings in text cells. You can think of it as a technical report with code. Before submission, please use `Kernel -> Restart & Run All` in the Jupyter menu to verify your code is runnable and save all outputs. Afterwards, you can upload your raw notebook(s).  \n",
    "\n",
    "\n",
    "In this project, we will practice with data cleaning and transformation methods on the California house sales data and check their effects on the price prediction model. The model training and the evaluation code will be given. Your job is to try different data pre-processing methods to obtain the best root mean squared logarithmic error (RMSLE) on the test dataset.\n",
    "\n",
    "\n",
    "## necessary packages on Linux/Mac\n",
    "Install the necessary packages: `pip3 install notebook numpy pandas matplotlib scikit-learn lightgbm`\n",
    "\n",
    "## Sample Steps of Exploratory Data Analysis \n",
    "\n",
    "Download the data from http://www.cs.mu.edu/~keke/dm/data/house_sales.ftr. Note that we use the [`feather` format](https://arrow.apache.org/docs/python/feather.html). \n",
    " "
   ]
  },
  {
   "cell_type": "code",
   "execution_count": 1,
   "metadata": {},
   "outputs": [],
   "source": [
    "# inline package installation, if you haven't done outside\n",
    "#!pip3 install notebook numpy pandas matplotlib scikit-learn lightgbm --upgrade  \n"
   ]
  },
  {
   "cell_type": "code",
   "execution_count": 2,
   "metadata": {
    "ExecuteTime": {
     "end_time": "2021-09-22T21:19:22.818413Z",
     "start_time": "2021-09-22T21:19:18.899437Z"
    },
    "id": "YpsTjkMaMMFk"
   },
   "outputs": [
    {
     "data": {
      "text/plain": [
       "(164944, 1789)"
      ]
     },
     "execution_count": 2,
     "metadata": {},
     "output_type": "execute_result"
    }
   ],
   "source": [
    "# If the pacakges are not installed, run the following line once to install. You may need to restart your runtime afterwards:\n",
    "#!pip3 install numpy pandas scikit-learn lightgbm --upgrade  \n",
    "import pandas as pd\n",
    "import numpy as np\n",
    "\n",
    "data = pd.read_feather('house_sales.ftr')\n",
    "data.shape"
   ]
  },
  {
   "cell_type": "markdown",
   "metadata": {
    "id": "wlvsGd0AMMFl"
   },
   "source": [
    "We select a few columns to demonstrate. You need to select more columns to make your model more accurate. "
   ]
  },
  {
   "cell_type": "code",
   "execution_count": 3,
   "metadata": {
    "ExecuteTime": {
     "end_time": "2021-09-22T21:19:22.837345Z",
     "start_time": "2021-09-22T21:19:22.821365Z"
    },
    "id": "vMIZGUkiMMFl"
   },
   "outputs": [
    {
     "data": {
      "text/plain": [
       "Sold Price    object\n",
       "Sold On       object\n",
       "Type          object\n",
       "Year built    object\n",
       "Bedrooms      object\n",
       "dtype: object"
      ]
     },
     "execution_count": 3,
     "metadata": {},
     "output_type": "execute_result"
    }
   ],
   "source": [
    "# select a small number columns for demonstrating how to clean data and train models\n",
    "columns = ['Sold Price', 'Sold On', 'Type', 'Year built', 'Bedrooms']\n",
    "\n",
    "\n",
    "df0 = data[columns].copy()\n",
    "# uncomment the below line to save memory\n",
    "# del data\n",
    "df0.dtypes"
   ]
  },
  {
   "attachments": {},
   "cell_type": "markdown",
   "metadata": {
    "id": "M025p8ZOMMFl"
   },
   "source": [
    "Data type \"object\" is the initial type when data is loaded in. We want to convert each to numeric and remove missing values and errors.\n",
    "\n",
    "1. We convert `Sold Price` to numerical values, which is our prediction target. We also remove examples whose prices are too high or too low. For more data cleaning/transformation examples, you can revisit the notebook https://www.cs.mu.edu/~keke/dm/data/house.ipynb."
   ]
  },
  {
   "cell_type": "code",
   "execution_count": 4,
   "metadata": {
    "ExecuteTime": {
     "end_time": "2021-09-22T21:19:23.275937Z",
     "start_time": "2021-09-22T21:19:22.838990Z"
    },
    "id": "QEtKW8aZMMFl"
   },
   "outputs": [
    {
     "data": {
      "text/plain": [
       "Sold Price    float64\n",
       "Sold On        object\n",
       "Type           object\n",
       "Year built     object\n",
       "Bedrooms       object\n",
       "dtype: object"
      ]
     },
     "execution_count": 4,
     "metadata": {},
     "output_type": "execute_result"
    }
   ],
   "source": [
    "\n",
    "c = 'Sold Price'\n",
    "    \n",
    "df0[c] = np.log10(df0[c].replace(\n",
    "        r'[$,-]', '', regex=True).replace(\n",
    "        r'^\\s*$', np.nan, regex=True).astype(float))\n",
    "\n",
    "# you can reuse this code for parsing any dollar related columns\n",
    "#(some column of a data frame).replace(r'[$,-]', '', regex=True).replace(r'^\\s*$', np.nan, regex=True).astype(float)\n",
    "\n",
    "df1 = df0[(df0['Sold Price'] >= 4 ) & (df0['Sold Price'] <= 8 )] # use the prices between 10^4 and 10^8 only\n",
    "df1.dtypes"
   ]
  },
  {
   "cell_type": "code",
   "execution_count": 5,
   "metadata": {},
   "outputs": [
    {
     "data": {
      "text/plain": [
       "(160838, 5)"
      ]
     },
     "execution_count": 5,
     "metadata": {},
     "output_type": "execute_result"
    }
   ],
   "source": [
    "df1.shape"
   ]
  },
  {
   "cell_type": "markdown",
   "metadata": {},
   "source": [
    "2. Now handle \"Type\""
   ]
  },
  {
   "cell_type": "code",
   "execution_count": 6,
   "metadata": {
    "scrolled": true
   },
   "outputs": [
    {
     "data": {
      "text/plain": [
       "Type\n",
       "SingleFamily                                              100040\n",
       "Condo                                                      26666\n",
       "MultiFamily                                                 7189\n",
       "Townhouse                                                   6818\n",
       "Unknown                                                     5817\n",
       "                                                           ...  \n",
       "1 Level, Low-Rise (1-3), Unit Above, Ground Floor              1\n",
       "Detached, 3 Story, Full                                        1\n",
       "1 Level, Luxury, New Construction, Mid-Rise (4-8)              1\n",
       "1 Level, Luxury, Low-Rise (1-3), End Unit                      1\n",
       "Unit Below, Low-Rise (1-3), Full, Unit Above, Attached         1\n",
       "Name: count, Length: 317, dtype: int64"
      ]
     },
     "execution_count": 6,
     "metadata": {},
     "output_type": "execute_result"
    }
   ],
   "source": [
    "df1['Type'].value_counts()"
   ]
  },
  {
   "cell_type": "markdown",
   "metadata": {},
   "source": [
    "Let's only use the first four types of houses, which considered very rough -- ignore many other types (the predictor will not work on the skipped types)"
   ]
  },
  {
   "cell_type": "code",
   "execution_count": 7,
   "metadata": {},
   "outputs": [
    {
     "data": {
      "text/plain": [
       "Type\n",
       "SingleFamily    100040\n",
       "Condo            26666\n",
       "MultiFamily       7189\n",
       "Townhouse         6818\n",
       "Name: count, dtype: int64"
      ]
     },
     "execution_count": 7,
     "metadata": {},
     "output_type": "execute_result"
    }
   ],
   "source": [
    "df1 = df1[df1['Type'].isin(['SingleFamily', 'Condo', 'MultiFamily', 'Townhouse'])]\n",
    "df1['Type'].value_counts()"
   ]
  },
  {
   "cell_type": "code",
   "execution_count": 8,
   "metadata": {},
   "outputs": [
    {
     "data": {
      "text/plain": [
       "Type\n",
       "2    100040\n",
       "0     26666\n",
       "1      7189\n",
       "3      6818\n",
       "Name: count, dtype: int64"
      ]
     },
     "execution_count": 8,
     "metadata": {},
     "output_type": "execute_result"
    }
   ],
   "source": [
    "# convert to categorical and then conver to integers\n",
    "df1['Type'] = df1['Type'].astype('category').cat.codes\n",
    "df1['Type'].value_counts()"
   ]
  },
  {
   "cell_type": "code",
   "execution_count": 9,
   "metadata": {
    "scrolled": true
   },
   "outputs": [
    {
     "data": {
      "text/plain": [
       "Year built\n",
       "No Data    5821\n",
       "1973       2212\n",
       "2018       2161\n",
       "1950       2096\n",
       "2006       1959\n",
       "           ... \n",
       "1650          1\n",
       "1862          1\n",
       "19            1\n",
       "1571          1\n",
       "1471          1\n",
       "Name: count, Length: 180, dtype: int64"
      ]
     },
     "execution_count": 9,
     "metadata": {},
     "output_type": "execute_result"
    }
   ],
   "source": [
    "# 3. handle \"Year built\"\n",
    "df1['Year built'].value_counts()"
   ]
  },
  {
   "cell_type": "code",
   "execution_count": 10,
   "metadata": {
    "scrolled": true
   },
   "outputs": [
    {
     "data": {
      "text/plain": [
       "Year built\n",
       "1973    2212\n",
       "2018    2161\n",
       "1950    2096\n",
       "2006    1959\n",
       "1955    1956\n",
       "        ... \n",
       "1917     184\n",
       "1903     168\n",
       "1901     141\n",
       "1902     140\n",
       "2021      98\n",
       "Name: count, Length: 121, dtype: int64"
      ]
     },
     "execution_count": 10,
     "metadata": {},
     "output_type": "execute_result"
    }
   ],
   "source": [
    "#remove \"No Data\" -- do any missing-value imputation methods work here?\n",
    "df1 = df1[df1['Year built'] != 'No Data']\n",
    "df1['Year built'] = df1['Year built'].astype('int')\n",
    "# get rid of too old or irregular value \n",
    "df1 = df1[(df1['Year built']>1900)  & (df1['Year built'] < 2023)]\n",
    "df1['Year built'].value_counts()"
   ]
  },
  {
   "cell_type": "code",
   "execution_count": 11,
   "metadata": {},
   "outputs": [
    {
     "data": {
      "text/plain": [
       "(132348, 5)"
      ]
     },
     "execution_count": 11,
     "metadata": {},
     "output_type": "execute_result"
    }
   ],
   "source": [
    "df1.shape # check how many records are left so far"
   ]
  },
  {
   "cell_type": "code",
   "execution_count": 12,
   "metadata": {
    "scrolled": true
   },
   "outputs": [
    {
     "data": {
      "text/plain": [
       "Bedrooms\n",
       "3                                                                                                                                                                    45514\n",
       "2                                                                                                                                                                    28586\n",
       "4                                                                                                                                                                    23194\n",
       "1                                                                                                                                                                     6966\n",
       "5                                                                                                                                                                     6801\n",
       "                                                                                                                                                                     ...  \n",
       "Ground Floor Bedroom, Master Bedroom on Ground Floor, More than One Master Bedroom, Master Suite / Retreate - 2+                                                         1\n",
       "Ground Floor Bedroom, Master Suite / Retreat, More than One Master Bedroom on Ground Floor                                                                               1\n",
       "Ground Floor Bedroom, Loft Bedroom, Master Bedroom on Ground Floor, More than One Bedroom on Ground Floor, Walk-in Closet                                                1\n",
       "Inverted Floor Plan, Master Bedroom on Ground Floor, More than One Master Bedroom on Ground Floor                                                                        1\n",
       "Master Bedroom on Ground Floor, More than One Bedroom on Ground Floor, Walk-in Closet, More than One Master Bedroom, More than One Master Bedroom on Ground Floor        1\n",
       "Name: count, Length: 366, dtype: int64"
      ]
     },
     "execution_count": 12,
     "metadata": {},
     "output_type": "execute_result"
    }
   ],
   "source": [
    "#4. handle \"Bedrooms\", find the most frequent values first\n",
    "df1['Bedrooms'].value_counts()"
   ]
  },
  {
   "cell_type": "code",
   "execution_count": 13,
   "metadata": {},
   "outputs": [
    {
     "data": {
      "text/plain": [
       "Bedrooms\n",
       "3     45514\n",
       "2     28586\n",
       "4     23194\n",
       "1      6966\n",
       "5      6801\n",
       "6      1723\n",
       "0      1200\n",
       "7       469\n",
       "8       367\n",
       "10      144\n",
       "9       127\n",
       "Name: count, dtype: int64"
      ]
     },
     "execution_count": 13,
     "metadata": {},
     "output_type": "execute_result"
    }
   ],
   "source": [
    "# we see a lot of noises; let's keep only the reasonable ones[0, 10] bedrooms\n",
    "df1  = df1[df1['Bedrooms'].isin([str(i) for i in range(11)])]\n",
    "df1['Bedrooms'] = df1['Bedrooms'].astype('int')\n",
    "df1['Bedrooms'].value_counts()"
   ]
  },
  {
   "cell_type": "code",
   "execution_count": 14,
   "metadata": {},
   "outputs": [
    {
     "data": {
      "text/plain": [
       "(115091, 5)"
      ]
     },
     "execution_count": 14,
     "metadata": {},
     "output_type": "execute_result"
    }
   ],
   "source": [
    "df1.shape # the number examples left so far"
   ]
  },
  {
   "cell_type": "markdown",
   "metadata": {
    "id": "GwS6XYWAMMFm"
   },
   "source": [
    "We use the house sales between 2021-2-15 and 2021-3-1 as our test data. You can use any example before 2021-2-15 for training, but not after, as a prediction model can only be built with historical data and tested on more recent data. In other words, we pretend we are launching our model on 2021-2-15 and testing it for 2 weeks. Here we only use sales in 2021 for fast training. You should extend the selection range to include more data in your experiments  "
   ]
  },
  {
   "cell_type": "code",
   "execution_count": 15,
   "metadata": {
    "ExecuteTime": {
     "end_time": "2021-09-22T21:19:57.603573Z",
     "start_time": "2021-09-22T21:19:57.487636Z"
    },
    "id": "8HA0DTInMMFm"
   },
   "outputs": [],
   "source": [
    "\n",
    "# split_data function can be used later before run modeling\n",
    "def split_data(df, train_timestamp):\n",
    "    # you can change the train_timestamp to include more training. It cannot be newer than pd.Timestamp(2021, 2, 15)\n",
    "    # test data period is fixed.\n",
    "    test_start, test_end = pd.Timestamp(2021, 2, 15), pd.Timestamp(2021, 3, 1)\n",
    "    train_start = train_timestamp  \n",
    "    df['Sold On'] = pd.to_datetime(df['Sold On'], errors='coerce')\n",
    "    train = df[(df['Sold On'] >= train_start) & (df['Sold On'] < test_start)]\n",
    "    test = df[(df['Sold On'] >= test_start) & (df['Sold On'] < test_end)]\n",
    "    return train, test\n",
    "\n",
    "# the following sample code include only 2021 data for training \n",
    "#train, test = split_data(df1, pd.Timestamp(2021, 1, 1))\n",
    "#train.shape, test.shape"
   ]
  },
  {
   "cell_type": "code",
   "execution_count": 16,
   "metadata": {
    "scrolled": true
   },
   "outputs": [],
   "source": [
    "\n",
    "# get feature vectors and target values for train and test data, respectively. The target attribute is always \"Sold Price\"\n",
    "# If you want to include more features, include them in the beginning and perform appropriate preprocessing.\n",
    "# you can call the function prepare_train_test in your code\n",
    "\n",
    "def prepare_train_test(train, test, features):\n",
    "    target = \"Sold Price\"\n",
    "    X_train = train.loc[:, features ]\n",
    "    y_train = train.loc[:, [target]]\n",
    "    X_test = test.loc[:, features]\n",
    "    y_test = test.loc[:, [target]]\n",
    "    return X_train, y_train, X_test, y_test\n",
    "\n",
    "# for the demo program, we use only three features so far\n",
    "#features = [\"Type\", \"Year built\", 'Bedrooms'] \n",
    "# we include all the features we selected for preprocessing earlier, except for \"Sold On\", which is not a good feature for predicting future sales, apparently\n",
    "#X_train, y_train, X_test, y_test = prepare_train_test(train, test, features)\n"
   ]
  },
  {
   "cell_type": "markdown",
   "metadata": {},
   "source": [
    "## Regression Baseline\n",
    "\n",
    "We compute the baseline model with a gradient boosting regressor (GBM), which is a non-linear regression method. The specific implementation is called LightGBM. Details of modeling methods will be covered in later lectures. Thus, now we recommend that you reuse the following \"modeling\" function so that you can focus on data preprocessing. \n",
    "\n",
    "We use the root mean squared error (RMSE) to represent the prediction quality. With the few features, the baseline RMSE is around 0.26. We want to smaller RMSE as possible."
   ]
  },
  {
   "cell_type": "code",
   "execution_count": 17,
   "metadata": {
    "id": "fXFkQrUUMMFn"
   },
   "outputs": [],
   "source": [
    "# if the packages are not installed, install them using \n",
    "# pip install sklearn lightgbm\n",
    "\n",
    "from sklearn.metrics import mean_squared_error\n",
    "from sklearn.model_selection import GridSearchCV\n",
    "\n",
    "import lightgbm as lgb\n",
    "\n",
    "# define modeling function can be used later\n",
    "def modeling (x_train, y_train, x_test, y_test):\n",
    "    # training and test data as input\n",
    "    print('Starting training...')\n",
    "    # train\n",
    "    gbm = lgb.LGBMRegressor(num_leaves=31,\n",
    "                        learning_rate=0.05,\n",
    "                        n_estimators=100)\n",
    "    gbm.fit(x_train, y_train,\n",
    "        eval_set=[(x_test, y_test)],\n",
    "        eval_metric='l2',\n",
    "        callbacks=[lgb.early_stopping(5)])\n",
    "\n",
    "    print('Starting predicting...')\n",
    "    # predict\n",
    "    y_pred = gbm.predict(x_test, num_iteration=gbm.best_iteration_)\n",
    "    # eval\n",
    "    # use root mean squared error (RMSE)\n",
    "    rmse_test = mean_squared_error(y_test, y_pred) ** 0.5\n",
    "    print(f'The RMSE of prediction is: {rmse_test}')\n",
    "    return gbm\n"
   ]
  },
  {
   "cell_type": "code",
   "execution_count": 18,
   "metadata": {},
   "outputs": [
    {
     "name": "stderr",
     "output_type": "stream",
     "text": [
      "/var/folders/xy/0gk1fqsd08170php7y3xrqb80000gn/T/ipykernel_41326/1318690691.py:7: UserWarning: Could not infer format, so each element will be parsed individually, falling back to `dateutil`. To ensure parsing is consistent and as-expected, please specify a format.\n",
      "  df['Sold On'] = pd.to_datetime(df['Sold On'], errors='coerce')\n"
     ]
    },
    {
     "name": "stdout",
     "output_type": "stream",
     "text": [
      "Starting training...\n",
      "[LightGBM] [Warning] Found whitespace in feature_names, replace with underlines\n",
      "[LightGBM] [Info] Auto-choosing col-wise multi-threading, the overhead of testing was 0.000557 seconds.\n",
      "You can set `force_col_wise=true` to remove the overhead.\n",
      "[LightGBM] [Info] Total Bins 137\n",
      "[LightGBM] [Info] Number of data points in the train set: 20031, number of used features: 3\n",
      "[LightGBM] [Warning] Found whitespace in feature_names, replace with underlines\n",
      "[LightGBM] [Info] Start training from score 5.795896\n",
      "Training until validation scores don't improve for 5 rounds\n",
      "Early stopping, best iteration is:\n",
      "[77]\tvalid_0's l2: 0.0672473\n",
      "Starting predicting...\n",
      "The RMSE of prediction is: 0.25932083531104194\n"
     ]
    },
    {
     "data": {
      "text/plain": [
       "(20031, 3)"
      ]
     },
     "execution_count": 18,
     "metadata": {},
     "output_type": "execute_result"
    }
   ],
   "source": [
    "\n",
    "# you will use this piece of code for testing the cleaned data you get so far\n",
    "# get the training and testing split\n",
    "train, test = split_data(df1, pd.Timestamp(2021, 1, 1))\n",
    "\n",
    "# need to specify the selected features\n",
    "features = [\"Type\", \"Year built\", 'Bedrooms'] \n",
    "X_train, y_train, X_test, y_test = prepare_train_test(train, test, features)\n",
    "# run modeling\n",
    "predictor = modeling(X_train, y_train, X_test, y_test)\n",
    "X_train.shape\n"
   ]
  },
  {
   "cell_type": "markdown",
   "metadata": {
    "id": "c1c0cM3QMMFo"
   },
   "source": [
    "Next, we compute the importance of each feature, along with several other metrics. "
   ]
  },
  {
   "cell_type": "code",
   "execution_count": 19,
   "metadata": {},
   "outputs": [
    {
     "data": {
      "text/plain": [
       "<Axes: title={'center': 'Feature importance'}, xlabel='Feature importance', ylabel='Features'>"
      ]
     },
     "execution_count": 19,
     "metadata": {},
     "output_type": "execute_result"
    },
    {
     "data": {
      "image/png": "[encoded data removed]",
      "text/plain": [
       "<Figure size 640x480 with 1 Axes>"
      ]
     },
     "metadata": {},
     "output_type": "display_data"
    }
   ],
   "source": [
    "lgb.plot_importance(predictor)"
   ]
  },
  {
   "cell_type": "markdown",
   "metadata": {
    "ExecuteTime": {
     "end_time": "2021-09-21T17:10:23.648923Z",
     "start_time": "2021-09-21T17:10:16.162130Z"
    },
    "id": "abfuZLOWMMFo"
   },
   "source": [
    "###### Your Tasks\n",
    "\n",
    "Your goal is to train a model using the features in the original dataset that minimizes the RMSE on the validation dataset. While the naïve model achieves an RMSE of ~0.26, it is possible to achieve an error of less than 0.08 on the same dataset.  \n",
    "\n",
    "Complete the following tasks after you walk through the above modeling steps. \n",
    "\n",
    "1. Read good practices in organizing your Jupyter code https://ploomber.io/blog/clean-nbs/. Move the existing functions out to a .py file (i.e., a module), import them, and test your code. \n",
    "   \n",
    "2. Check more data cleaning and transformation examples in https://www.cs.mu.edu/~keke/dm/data/house.ipynb. You want to clean the null value columns first and then work on the remaining columns (about 30 columns left).\n",
    "```\n",
    "    null_sum = data.isnull().sum()\n",
    "    data.drop(columns=data.columns[null_sum > len(data) * 0.3], inplace=True) \n",
    "```\n",
    "  (2.1) Include more numeric attributes that might be relevant to the sold price, e.g.,  dollar-related ones such as 'Tax assessed value', 'Annual tax amount', different kinds of areas, bedrooms/bathrooms, distances, and school scores. **Do not include \"Listed Price\", as they may have considered z-estimate (the output of the prediction model). \"Sold On\" is always kept in the dataset as it is needed by the split_data function. However, it should not be used as a feature directly in modeling -- its derived features are OK, such as month or days of the year.** Reuse some code in house.ipynb and convert these attributes to float or int values correspondingly, and then test whether more attributes help improve the model quality (i.e., rerun the modeling code and check the final RMSE). \n",
    "\n",
    "  (2.2) Then, include one categorical attribute, \"zipcode\", and convert it to numeric values (check the example of converting \"Type\") and check the model quality again. \n",
    "\n",
    "\n",
    "    \n",
    "\n",
    "   (2.3) Let's conduct some experiments on noise reduction and imputation. For example, for the \"Type\" attribute, you may have observed that \"SingleFamily\" has typos such as \"Single Family\". Replace these noisy values with the correct ones. You may find similar problems with other attributes. Describe what you do and report the model quality change. \n",
    "\n",
    "Note that these tasks still use the training data from 2021 (as used earlier). However, if the training or testing data size becomes too small (e.g., < 1000) due to aggressive data cleaning at a certain step, the model quality assessment is unreliable.  You want to keep an eye on the number of remaining samples at each significant step (e.g., check df.shape often). \n",
    "\n",
    "3. Based on the best processing steps you observed so far, experiment with more training examples. A larger number of examples in the years earlier than 2021 can also be included. Try different periods, e.g., since 2020, since 2019, etc., but always keep the house sales between 2021-2-15 and 2021-3-1 as our test data. Reuse the \"split_data\" function with different time_stamps to extract the samples. Also, check whether the top features (e.g., the top 3) may change for different periods. Describe what you do and report the RMSE change and top features with different periods of training data. \n",
    "\n",
    "\n",
    "4. Finally, summarize the best model you get: the features you used, data cleaning strategies, training data size, testing data size, RMSE, and the top features of the best model. \n",
    "\n"
   ]
  },
  {
   "cell_type": "code",
   "execution_count": 20,
   "metadata": {
    "id": "Mvs8Kh0dDJRZ"
   },
   "outputs": [
    {
     "data": {
      "text/plain": [
       "Id                             object\n",
       "Address                        object\n",
       "Sold Price                     object\n",
       "Sold On                        object\n",
       "Summary                        object\n",
       "Type                           object\n",
       "Year built                     object\n",
       "Heating                        object\n",
       "Cooling                        object\n",
       "Parking                        object\n",
       "Bedrooms                       object\n",
       "Bathrooms                      object\n",
       "Total interior livable area    object\n",
       "Total spaces                   object\n",
       "Garage spaces                  object\n",
       "Home type                      object\n",
       "Region                         object\n",
       "Elementary School              object\n",
       "Elementary School Score        object\n",
       "Elementary School Distance     object\n",
       "High School                    object\n",
       "High School Score              object\n",
       "High School Distance           object\n",
       "Heating features               object\n",
       "Parking features               object\n",
       "Lot size                       object\n",
       "Parcel number                  object\n",
       "Tax assessed value             object\n",
       "Annual tax amount              object\n",
       "Listed On                      object\n",
       "Listed Price                   object\n",
       "Zip                            object\n",
       "dtype: object"
      ]
     },
     "execution_count": 20,
     "metadata": {},
     "output_type": "execute_result"
    }
   ],
   "source": [
    "# YOUR SOLUTION HERE\n",
    "import pandas as pd \n",
    "import numpy as np\n",
    "import seaborn as sns\n",
    "\n",
    "data = pd.read_feather('house_sales.ftr')\n",
    "data.shape\n",
    "\n",
    "null_sum = data.isnull().sum()\n",
    "data.drop(columns=data.columns[null_sum > len(data) * 0.3], inplace=True) \n",
    "columns = ['Sold Price', 'Sold On', 'Type','Year built', 'Bedrooms', 'Bathrooms', 'Total interior livable area', 'Total spaces',\n",
    "           'Garage spaces', 'Elementary School Score', 'Elementary School Distance', 'High School Score', 'High School Distance',\n",
    "           'Lot size', 'Tax assessed value', 'Annual tax amount', 'Zip']\n",
    "data.dtypes\n",
    "#data.shape"
   ]
  },
  {
   "cell_type": "code",
   "execution_count": 21,
   "metadata": {},
   "outputs": [
    {
     "name": "stdout",
     "output_type": "stream",
     "text": [
      "(12915, 32)\n"
     ]
    },
    {
     "data": {
      "text/plain": [
       "Sold Price                     float64\n",
       "Sold On                         object\n",
       "Type                              int8\n",
       "Year built                       int64\n",
       "Bedrooms                         int64\n",
       "Bathrooms                      float64\n",
       "Total interior livable area     object\n",
       "Total spaces                   float64\n",
       "Garage spaces                  float64\n",
       "Elementary School Score        float64\n",
       "Elementary School Distance     float64\n",
       "High School Score              float64\n",
       "High School Distance           float64\n",
       "Lot size                        object\n",
       "Tax assessed value             float64\n",
       "Annual tax amount              float64\n",
       "Zip                               int8\n",
       "dtype: object"
      ]
     },
     "execution_count": 21,
     "metadata": {},
     "output_type": "execute_result"
    }
   ],
   "source": [
    "#Cleaning and Converting datatypes to float or int\n",
    "\n",
    "#Id\n",
    "data[\"Id\"] = data[\"Id\"].astype(int)\n",
    "\n",
    "#Sold Price\n",
    "data['Sold Price'] = np.log10(data['Sold Price'].replace(\n",
    "        r'[$,-]', '', regex=True).replace(\n",
    "        r'^\\s*$', np.nan, regex=True).astype(float))\n",
    "data = data[(data['Sold Price'] >= 4 ) & (data['Sold Price'] <= 8 )]\n",
    "\n",
    "#Type\n",
    "data['Type'].replace('Single Family', 'SingleFamily')\n",
    "data['Type'].replace('Multi Family', 'MultiFamily')\n",
    "data['Type'].replace('Town house', 'Townhouse')\n",
    "\n",
    "data = data[data['Type'].isin(['SingleFamily', 'Condo', 'MultiFamily', 'Townhouse'])]\n",
    "data['Type'].value_counts()\n",
    "data['Type'] = data['Type'].astype('category').cat.codes\n",
    "\n",
    "#Year built\n",
    "data = data[data['Year built'] != 'No Data']\n",
    "data['Year built'] = data['Year built'].astype('int')\n",
    "# get rid of too old or irregular value \n",
    "data = data[(data['Year built']>1900)  & (data['Year built'] < 2023)]\n",
    "data['Year built'].value_counts()\n",
    "\n",
    "#Bedrooms\n",
    "data  = data[data['Bedrooms'].isin([str(i) for i in range(11)])]\n",
    "data['Bedrooms'] = data['Bedrooms'].astype('int')\n",
    "data['Bedrooms'].value_counts()\n",
    "\n",
    "#Bathrooms\n",
    "data['Bathrooms'] = data['Bathrooms'].astype('float')\n",
    "data['Bathrooms'].value_counts()\n",
    "\n",
    "#Total spaces\n",
    "data[\"Total spaces\"] = data[\"Total spaces\"].astype(float)\n",
    "\n",
    "#Garage spaces\n",
    "data[\"Garage spaces\"] = data[\"Garage spaces\"].astype(float)\n",
    "\n",
    "#Elementary School Score\n",
    "data = data[data['Elementary School Score'] != 'None']\n",
    "data['Elementary School Score'] = data['Elementary School Score'].astype('float')\n",
    "\n",
    "#Elementary School Distance\n",
    "data = data[data['Elementary School Distance'] != 'None']\n",
    "data['Elementary School Distance'] = data['Elementary School Distance'].astype('float')\n",
    "\n",
    "#High School Score\n",
    "data = data[data['High School Score'] != 'None']\n",
    "data['High School Score'] = data['High School Score'].astype('float')\n",
    "\n",
    "#High School Distance\n",
    "data = data[data['High School Distance'] != 'None']\n",
    "data['High School Distance'] = data['High School Distance'].astype('float')\n",
    "\n",
    "#Sold Price, Listed Price, Tax assessed value, Annual tax ammount\n",
    "currency = ['Sold Price', 'Listed Price', 'Tax assessed value', 'Annual tax amount']\n",
    "for c in currency:\n",
    "    data[c] = data[c].replace(\n",
    "        r'[$,-]', '', regex=True).replace(\n",
    "        r'^\\s*$', np.nan, regex=True).astype(float)\n",
    "\n",
    "#Zip\n",
    "data = data[data['Zip'].isin(data['Zip'].value_counts()[:20].keys())]\n",
    "data['Zip'] = data['Zip'].astype('category').cat.codes\n",
    "\n",
    "print(data.shape)\n",
    "data[columns].dtypes"
   ]
  },
  {
   "cell_type": "code",
   "execution_count": 22,
   "metadata": {},
   "outputs": [
    {
     "data": {
      "text/plain": [
       "(12915, 32)"
      ]
     },
     "execution_count": 22,
     "metadata": {},
     "output_type": "execute_result"
    }
   ],
   "source": [
    "areas = ['Total interior livable area', 'Lot size']\n",
    "for c in areas:\n",
    "    acres = data[c].str.contains('Acres') == True\n",
    "    col = data[c].replace(r'\\b sqft\\b|\\b Acres\\b|\\b,\\b','', regex=True).astype(float)\n",
    "    col[acres] *= 43560\n",
    "    data[c] = col\n",
    "\n",
    "data[columns].head(20)\n",
    "data.shape"
   ]
  },
  {
   "cell_type": "code",
   "execution_count": 23,
   "metadata": {},
   "outputs": [
    {
     "data": {
      "text/plain": [
       "(9801, 17)"
      ]
     },
     "execution_count": 23,
     "metadata": {},
     "output_type": "execute_result"
    }
   ],
   "source": [
    "abnormal = (data[areas[1]] < 10) | (data[areas[1]] > 1e4)\n",
    "data = data[~abnormal]\n",
    "sum(abnormal)\n",
    "data[columns].shape"
   ]
  },
  {
   "cell_type": "code",
   "execution_count": 24,
   "metadata": {},
   "outputs": [
    {
     "name": "stdout",
     "output_type": "stream",
     "text": [
      "(9654, 32)\n",
      "(142, 32)\n",
      "Starting training...\n",
      "[LightGBM] [Warning] Found whitespace in feature_names, replace with underlines\n",
      "[LightGBM] [Info] Auto-choosing col-wise multi-threading, the overhead of testing was 0.000371 seconds.\n",
      "You can set `force_col_wise=true` to remove the overhead.\n",
      "[LightGBM] [Info] Total Bins 1587\n",
      "[LightGBM] [Info] Number of data points in the train set: 9654, number of used features: 16\n",
      "[LightGBM] [Warning] Found whitespace in feature_names, replace with underlines\n",
      "[LightGBM] [Info] Start training from score 5.979513\n",
      "Training until validation scores don't improve for 5 rounds\n"
     ]
    },
    {
     "name": "stderr",
     "output_type": "stream",
     "text": [
      "/var/folders/xy/0gk1fqsd08170php7y3xrqb80000gn/T/ipykernel_41326/1318690691.py:7: UserWarning: Could not infer format, so each element will be parsed individually, falling back to `dateutil`. To ensure parsing is consistent and as-expected, please specify a format.\n",
      "  df['Sold On'] = pd.to_datetime(df['Sold On'], errors='coerce')\n"
     ]
    },
    {
     "name": "stdout",
     "output_type": "stream",
     "text": [
      "Early stopping, best iteration is:\n",
      "[89]\tvalid_0's l2: 2.78623e-05\n",
      "Starting predicting...\n",
      "The RMSE of prediction is: 0.0052784842414850385\n"
     ]
    },
    {
     "data": {
      "text/plain": [
       "(9654, 16)"
      ]
     },
     "execution_count": 24,
     "metadata": {},
     "output_type": "execute_result"
    }
   ],
   "source": [
    "train, test = split_data(data, pd.Timestamp(1900, 1, 1))\n",
    "print(train.shape)\n",
    "print(test.shape)\n",
    "\n",
    "# need to specify the selected features\n",
    "features = ['Sold Price', 'Type','Year built', 'Bedrooms', 'Bathrooms', 'Total interior livable area', 'Total spaces',\n",
    "           'Garage spaces', 'Elementary School Score', 'Elementary School Distance', 'High School Score', 'High School Distance',\n",
    "           'Lot size', 'Tax assessed value', 'Annual tax amount', 'Zip']\n",
    "X_train, y_train, X_test, y_test = prepare_train_test(train, test, features)\n",
    "\n",
    "# run modeling\n",
    "predictor = modeling(X_train, y_train, X_test, y_test)\n",
    "X_train.shape"
   ]
  },
  {
   "cell_type": "markdown",
   "metadata": {},
   "source": [
    "The best RSME of prediction I achieved was 0.0053. I used 16 different features to achieve this: 'Sold Price', 'Type','Year built', 'Bedrooms', 'Bathrooms', 'Total interior livable area', 'Total spaces', 'Garage spaces', 'Elementary School Score', 'Elementary School Distance', 'High School Score', 'High School Distance', 'Lot size', 'Tax assessed value', 'Annual tax amount', 'Zip'. To achieve this low of an RMSE score, I split the data starting at 1/1/2018. I found that any later than 1/1/2018, the RSME increases. A date of as early as 1/1/1850, also maintains an RSME score of 0.0053. This is due to the model having more data to train on. Within the split_data function, the test data was from 2021-2-15 and 2021-3-1. As I changed 2021-2-15 to an earlier date, such as 2020-1-12, the RSME increased to 0.158. This is due to a larger amount of test data and a smaller training data set. The model was not trained as much, hence it is not as accurate. \n",
    "\n",
    "To clean the data, for most of the columns, I removed null values (or String values used to represent null: None, No Data, etc.). For Type and Zip, I converted the categorical data to numerical using cat.codes. For Sold Price, Listed Price, Tax assessed value, Annual tax amount, I had to remove $, ,, ^, etc before I could convert those columns to numerical data. For Total interior livable area and Lot size, if in Acres, I converted to sqft and removed any textual data before converting it to float/int. I converted 16 columns to numerical values. \n",
    "\n",
    "The training data consisted of 9654 records and the training data consisted of 142 records. As I increase the size of the testing data set, the accuracy of the model decreases. (For example, with 8784 records for training the model and 1012 records for testing the model, the RMSE of prediction is 0.016."
   ]
  },
  {
   "cell_type": "code",
   "execution_count": null,
   "metadata": {},
   "outputs": [],
   "source": []
  }
 ],
 "metadata": {
  "colab": {
   "collapsed_sections": [],
   "name": "hw1_v2.ipynb",
   "provenance": []
  },
  "kernelspec": {
   "display_name": "Python 3 (ipykernel)",
   "language": "python",
   "name": "python3"
  },
  "language_info": {
   "codemirror_mode": {
    "name": "ipython",
    "version": 3
   },
   "file_extension": ".py",
   "mimetype": "text/x-python",
   "name": "python",
   "nbconvert_exporter": "python",
   "pygments_lexer": "ipython3",
   "version": "3.11.5"
  },
  "toc": {
   "base_numbering": 1,
   "nav_menu": {},
   "number_sections": true,
   "sideBar": true,
   "skip_h1_title": true,
   "title_cell": "Table of Contents",
   "title_sidebar": "Contents",
   "toc_cell": false,
   "toc_position": {},
   "toc_section_display": true,
   "toc_window_display": false
  }
 },
 "nbformat": 4,
 "nbformat_minor": 4
}
